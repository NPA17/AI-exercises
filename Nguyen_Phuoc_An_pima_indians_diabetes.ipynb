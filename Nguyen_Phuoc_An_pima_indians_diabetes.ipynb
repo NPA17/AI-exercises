{
  "nbformat": 4,
  "nbformat_minor": 0,
  "metadata": {
    "colab": {
      "provenance": [],
      "authorship_tag": "ABX9TyOalGa+X8FH7RKaPw/5RSm+",
      "include_colab_link": true
    },
    "kernelspec": {
      "name": "python3",
      "display_name": "Python 3"
    },
    "language_info": {
      "name": "python"
    }
  },
  "cells": [
    {
      "cell_type": "markdown",
      "metadata": {
        "id": "view-in-github",
        "colab_type": "text"
      },
      "source": [
        "<a href=\"https://colab.research.google.com/github/NPA17/AI-exercises/blob/main/Nguyen_Phuoc_An_pima_indians_diabetes.ipynb\" target=\"_parent\"><img src=\"https://colab.research.google.com/assets/colab-badge.svg\" alt=\"Open In Colab\"/></a>"
      ]
    },
    {
      "cell_type": "code",
      "execution_count": 10,
      "metadata": {
        "colab": {
          "base_uri": "https://localhost:8080/"
        },
        "id": "vZwTzmzVwukw",
        "outputId": "e9796156-959f-43b3-b6f7-10d142959037"
      },
      "outputs": [
        {
          "output_type": "stream",
          "name": "stdout",
          "text": [
            "      6  148  72  35    0  33.6  0.627  50\n",
            "637   7   97  76  32   91  40.9  0.871  32\n",
            "339   1  130  70  13  105  25.9  0.472  22\n",
            "541  10   90  85  32    0  34.9  0.825  56\n",
            "216   6  125  68  30  120  30.0  0.464  32\n",
            "508   8  120  78   0    0  25.0  0.409  64\n",
            "..   ..  ...  ..  ..  ...   ...    ...  ..\n",
            "652   2  120  54   0    0  26.8  0.455  27\n",
            "566   6   92  62  32  126  32.0  0.085  46\n",
            "278   2  108  62  10  278  25.3  0.881  22\n",
            "635   5  104  74   0    0  28.8  0.153  48\n",
            "210   0  147  85  54    0  42.8  0.375  24\n",
            "\n",
            "[536 rows x 8 columns] [[ 0.97036698 -0.7402205   0.36984195 ...  1.1040763   1.18454125\n",
            "  -0.05335412]\n",
            " [-0.81187186  0.29105078  0.06680712 ... -0.75314469 -0.00362231\n",
            "  -0.93600245]\n",
            " [ 1.86148641 -0.95897502  0.82439419 ...  0.3611879   1.04755999\n",
            "   2.06500188]\n",
            " ...\n",
            " [-0.51483206 -0.39646341 -0.33723932 ... -0.82743353  1.21431979\n",
            "  -0.93600245]\n",
            " [ 0.37628737 -0.52146599  0.26883034 ... -0.39408197 -0.9535576\n",
            "   1.35888322]\n",
            " [-1.10891167  0.82231175  0.82439419 ...  1.33932429 -0.29247411\n",
            "  -0.75947278]]\n",
            "[0 0 0 0 1 0 0 0 1 0 0 0 1 0 0 0 0 1 0 1 0 1 0 0 1 1 1 1 0 0 0 0 0 1 0 1 0\n",
            " 0 1 0 0 0 0 0 0 0 0 0 0 1 0 0 0 1 1 1 0 1 1 0 1 0 1 0 0 0 1 1 0 0 1 0 0 0\n",
            " 0 1 1 0 0 0 0 1 1 1 1 1 0 1 1 1 0 1 1 0 1 1 1 0 0 0 1 1 0 0 1 0 0 0 0 0 0\n",
            " 0 0 0 1 0 0 0 1 0 1 1 1 1 1 0 0 0 0 0 0 0 1 0 1 1 1 0 1 0 0 1 1 0 0 0 0 0\n",
            " 0 0 0 0 0 0 1 0 1 0 0 0 0 0 0 0 1 1 0 0 0 1 0 1 1 0 0 1 0 0 1 1 1 1 1 0 0\n",
            " 1 0 1 1 1 1 0 0 1 0 1 0 0 0 0 1 0 0 0 1 1 0 1 1 1 0 0 0 0 1 0 0 1 1 0 1 0\n",
            " 0 1 0 0 1 1 0 0 0]\n",
            "713    0\n",
            "763    0\n",
            "314    0\n",
            "98     1\n",
            "764    0\n",
            "      ..\n",
            "282    1\n",
            "39     0\n",
            "203    0\n",
            "451    0\n",
            "233    0\n",
            "Name: 1, Length: 231, dtype: int64\n",
            "Đo chinh xac ma hinh chua scale: 0.6190476190476191\n",
            "[0 0 0 1 0 0 0 0 0 0 0 0 1 0 0 0 0 0 0 1 0 1 1 1 0 0 1 0 1 0 0 0 0 0 0 1 0\n",
            " 0 1 1 0 1 0 1 1 0 1 0 0 0 0 0 0 0 1 1 0 0 0 0 0 1 0 1 1 0 1 0 0 0 1 0 1 1\n",
            " 0 1 0 0 1 0 0 1 1 0 0 1 1 1 0 0 0 1 1 0 0 1 1 0 1 0 1 0 0 0 0 0 0 0 0 1 1\n",
            " 0 1 1 0 0 0 0 1 1 0 0 1 1 1 0 0 0 0 0 0 0 1 0 1 1 0 0 1 0 0 0 1 0 0 0 0 1\n",
            " 0 1 0 0 0 1 0 0 0 0 1 0 0 0 0 0 1 1 1 0 0 0 1 1 0 0 0 1 0 0 1 0 0 0 1 0 0\n",
            " 0 0 1 1 1 0 1 0 0 1 0 1 0 0 0 1 1 1 0 1 0 0 1 0 0 1 0 0 1 1 1 0 1 0 0 1 0\n",
            " 1 0 1 1 1 1 1 0 0]\n",
            "713    0\n",
            "763    0\n",
            "314    0\n",
            "98     1\n",
            "764    0\n",
            "      ..\n",
            "282    1\n",
            "39     0\n",
            "203    0\n",
            "451    0\n",
            "233    0\n",
            "Name: 1, Length: 231, dtype: int64\n",
            "Do chinh xac ma hinh scale: 0.7705627705627706\n"
          ]
        }
      ],
      "source": [
        "import pandas as pd\n",
        "url = 'pima-indians-diabetes.csv'\n",
        "data = pd.read_csv(url)\n",
        "data.head()\n",
        "\n",
        "\n",
        "from sklearn import datasets\n",
        "from sklearn.linear_model import Perceptron\n",
        "from sklearn.model_selection import train_test_split\n",
        "from sklearn.metrics import accuracy_score\n",
        "from sklearn.preprocessing import StandardScaler\n",
        "\n",
        "x = data.iloc[:,0:8]\n",
        "y= data.iloc[:,8]\n",
        "\n",
        "x_train,x_test,y_train,y_test = train_test_split(x,y,test_size = 0.3)\n",
        "\n",
        "sc = StandardScaler()\n",
        "sc.fit(x_train)\n",
        "x_train_std = sc.transform(x_train)\n",
        "x_test_std = sc.transform(x_test)\n",
        "\n",
        "print(x_train,x_train_std)\n",
        "\n",
        "model = Perceptron(max_iter = 100000000, eta0=0.1,random_state = 0)\n",
        "model.fit(x_train,y_train)\n",
        "y_pred = model.predict(x_test)\n",
        "print(y_pred)\n",
        "print(y_test)\n",
        "print('Đo chinh xac ma hinh chua scale:',accuracy_score(y_test,y_pred))\n",
        "\n",
        "model = Perceptron(max_iter = 100000000, eta0 = 0.1,random_state = 0)\n",
        "model.fit(x_train_std,y_train)\n",
        "y_pred = model.predict(x_test_std)\n",
        "print(y_pred)\n",
        "print(y_test)\n",
        "print('Do chinh xac ma hinh scale:',accuracy_score(y_test,y_pred))\n"
      ]
    }
  ]
}